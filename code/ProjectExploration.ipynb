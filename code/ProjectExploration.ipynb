{
 "cells": [
  {
   "cell_type": "code",
   "execution_count": 1,
   "metadata": {
    "collapsed": false
   },
   "outputs": [],
   "source": [
    "%matplotlib inline\n",
    "\n",
    "import sys, os\n",
    "sys.path.append(\"../data/glove/\")\n",
    "\n",
    "import numpy as np\n",
    "import matplotlib.pyplot as plt\n",
    "import csv\n",
    "import string\n",
    "from scipy import spatial\n",
    "import sklearn as sk\n",
    "from sklearn import linear_model\n",
    "import re\n",
    "import time\n",
    "import pickle\n",
    "\n",
    "from glove import loadWordVectors"
   ]
  },
  {
   "cell_type": "code",
   "execution_count": 2,
   "metadata": {
    "collapsed": true
   },
   "outputs": [],
   "source": [
    "num_dim = 200\n",
    "train_size = 323482\n",
    "test_size = 80870"
   ]
  },
  {
   "cell_type": "code",
   "execution_count": 3,
   "metadata": {
    "collapsed": false
   },
   "outputs": [
    {
     "name": "stdout",
     "output_type": "stream",
     "text": [
      "['id', 'qid1', 'qid2', 'question1', 'question2', 'is_duplicate']\n",
      "['0', '1', '2', 'What is the step by step guide to invest in share market in india?', 'What is the step by step guide to invest in share market?', '0']\n"
     ]
    }
   ],
   "source": [
    "tok2id = {}\n",
    "header = []\n",
    "count = 0\n",
    "max_length = 0\n",
    "with open('../data/quora/quora_duplicate_questions.tsv') as f, open('../data/quora/train.tsv', 'w') as g, open('../data/quora/test.tsv', 'w') as h:\n",
    "    reader = csv.reader(f, delimiter='\\t')\n",
    "    train_writer = csv.writer(g, delimiter='\\t')\n",
    "    test_writer = csv.writer(h, delimiter='\\t')\n",
    "    \n",
    "    index = 0\n",
    "    isHeader = True\n",
    "    for line in reader:\n",
    "        if index <= 1:\n",
    "            print(line)\n",
    "        \n",
    "        if isHeader:\n",
    "            header = line\n",
    "            isHeader = False\n",
    "            count += 1\n",
    "            continue\n",
    "        \n",
    "        sent1 = re.findall(r\"\\w+(?=n't)|n't|\\w+(?=')|'\\w+|\\w+|[.,!?;]\", line[3].lower())\n",
    "        sent2 = re.findall(r\"\\w+(?=n't)|n't|\\w+(?=')|'\\w+|\\w+|[.,!?;]\", line[4].lower())\n",
    "        max_length = max([len(sent1), len(sent2), max_length])\n",
    "                        \n",
    "        for word in sent1 + sent2:\n",
    "            if word not in tok2id:\n",
    "                tok2id[word] = index\n",
    "                index += 1\n",
    "        \n",
    "        \n",
    "        if count <= train_size:\n",
    "            train_writer.writerow(sent1)\n",
    "            train_writer.writerow(sent2)\n",
    "            train_writer.writerow(line[5])\n",
    "        else:\n",
    "            test_writer.writerow(sent1)\n",
    "            test_writer.writerow(sent2)\n",
    "            test_writer.writerow(line[5])\n",
    "        \n",
    "        count += 1\n",
    "            \n",
    "    tok2id['UNK'] = index"
   ]
  },
  {
   "cell_type": "code",
   "execution_count": 4,
   "metadata": {
    "collapsed": false
   },
   "outputs": [],
   "source": [
    "path = 'dependencies'\n",
    "with open(os.path.join(path, \"features.pkl\"), \"wb\") as f:\n",
    "    pickle.dump([tok2id, max_length], f, protocol=2)"
   ]
  },
  {
   "cell_type": "code",
   "execution_count": 5,
   "metadata": {
    "collapsed": false
   },
   "outputs": [
    {
     "name": "stdout",
     "output_type": "stream",
     "text": [
      "88015\n",
      "88015\n"
     ]
    }
   ],
   "source": [
    "word_vectors = loadWordVectors(tok2id)\n",
    "print(len(tok2id))\n",
    "print(len(word_vectors))"
   ]
  },
  {
   "cell_type": "code",
   "execution_count": 6,
   "metadata": {
    "collapsed": false
   },
   "outputs": [
    {
     "data": {
      "text/plain": [
       "array([[ 0.39396  ,  0.44185  , -0.0042279, ...,  0.47576  ,  0.20978  ,\n",
       "        -0.11687  ],\n",
       "       [ 0.32928  ,  0.25526  ,  0.26753  , ...,  0.074621 ,  0.012001 ,\n",
       "        -0.21952  ],\n",
       "       [-0.071549 ,  0.093459 ,  0.023738 , ...,  0.33617  ,  0.030591 ,\n",
       "         0.25577  ],\n",
       "       ..., \n",
       "       [ 0.91682  , -0.36737  , -0.32286  , ..., -0.3297   , -0.66926  ,\n",
       "        -0.75765  ],\n",
       "       [ 0.39356  ,  0.18569  ,  0.011526 , ...,  0.4215   ,  0.087896 ,\n",
       "         1.094    ],\n",
       "       [ 0.       ,  0.       ,  0.       , ...,  0.       ,  0.       ,\n",
       "         0.       ]])"
      ]
     },
     "execution_count": 6,
     "metadata": {},
     "output_type": "execute_result"
    }
   ],
   "source": [
    "word_vectors"
   ]
  },
  {
   "cell_type": "code",
   "execution_count": 7,
   "metadata": {
    "collapsed": false
   },
   "outputs": [],
   "source": [
    "def sentence_to_vec(sentence, word_vectors):\n",
    "    vec_sum = np.zeros(num_dim)\n",
    "    count = .1\n",
    "    for word in sentence:\n",
    "        if word in tok2id:\n",
    "            vec = word_vectors[tok2id[word], :]\n",
    "            if np.sum(vec) != 0:\n",
    "                vec_sum += vec\n",
    "                count += 1\n",
    "                \n",
    "    if np.sum(vec_sum) == 0:\n",
    "        vec_sum = np.random.rand(num_dim)\n",
    "                \n",
    "    return vec_sum / count"
   ]
  },
  {
   "cell_type": "code",
   "execution_count": 8,
   "metadata": {
    "collapsed": true
   },
   "outputs": [],
   "source": [
    "def cosine_distance(sentence1, sentence2, word_vectors):\n",
    "    vec1 = sentence_to_vec(sentence1, word_vectors)\n",
    "    vec2 = sentence_to_vec(sentence2, word_vectors)\n",
    "    \n",
    "    return spatial.distance.cosine(vec1, vec2)"
   ]
  },
  {
   "cell_type": "code",
   "execution_count": null,
   "metadata": {
    "collapsed": true
   },
   "outputs": [],
   "source": [
    "def euclidean_distance(sentence1, sentence2, word_vectors):\n",
    "    vec1 = sentence_to_vec(sentence1, word_vectors)\n",
    "    vec2 = sentence_to_vec(sentence2, word_vectors)\n",
    "    \n",
    "    return np.linalg.norm(vec1 - vec2)"
   ]
  },
  {
   "cell_type": "code",
   "execution_count": null,
   "metadata": {
    "collapsed": true
   },
   "outputs": [],
   "source": [
    "def manhattan_distance(sentence1, sentence2, word_vectors):\n",
    "    vec1 = sentence_to_vec(sentence1, word_vectors)\n",
    "    vec2 = sentence_to_vec(sentence2, word_vectors)\n",
    "    \n",
    "    return np.sum(np.abs(vec1 - vec2))"
   ]
  },
  {
   "cell_type": "code",
   "execution_count": null,
   "metadata": {
    "collapsed": false,
    "scrolled": true
   },
   "outputs": [],
   "source": [
    "X_train = np.zeros([train_size, 1])\n",
    "Y_train = np.zeros([train_size, 1])\n",
    "\n",
    "X_test = np.zeros([test_size, 1])\n",
    "Y_test = np.zeros([test_size, 1])\n",
    "\n",
    "index = 0\n",
    "with open('../data/quora/train.tsv') as f:\n",
    "    reader = csv.reader(f, delimiter='\\t')\n",
    "    sent1, sent2 = [], []\n",
    "    line_num = 0\n",
    "    for line in reader:\n",
    "        if line_num % 3 == 0:\n",
    "            sent1 = list(line)\n",
    "        elif line_num % 3 == 1:\n",
    "            sent2 = list(line)\n",
    "        else:\n",
    "            dist = cosine_distance(sent1, sent2, word_vectors)\n",
    "#         dist = manhattan_distance(sent1, sent2, word_vectors)\n",
    "        \n",
    "            X_train[index] = dist\n",
    "            Y_train[index] = int(line[0])\n",
    "            index += 1\n",
    "        \n",
    "            if index % 10000 == 0:\n",
    "                print(index)\n",
    "            \n",
    "        line_num += 1"
   ]
  },
  {
   "cell_type": "code",
   "execution_count": null,
   "metadata": {
    "collapsed": false
   },
   "outputs": [],
   "source": [
    "index = 0\n",
    "with open('../data/quora/test.tsv') as f:\n",
    "    reader = csv.reader(f, delimiter='\\t')\n",
    "    sent1, sent2 = [], []\n",
    "    line_num = 0\n",
    "    \n",
    "    for line in reader:\n",
    "        if line_num % 3 == 0:\n",
    "            sent1 = list(line)\n",
    "        elif line_num % 3 == 1:\n",
    "            sent2 = list(line)\n",
    "        else:\n",
    "            dist = cosine_distance(sent1, sent2, word_vectors)\n",
    "#         dist = manhattan_distance(sent1, sent2, word_vectors)\n",
    "        \n",
    "            X_test[index] = dist\n",
    "            Y_test[index] = int(line[0])\n",
    "            index += 1\n",
    "        \n",
    "            if index % 10000 == 0:\n",
    "                print(index)\n",
    "\n",
    "        line_num += 1"
   ]
  },
  {
   "cell_type": "code",
   "execution_count": null,
   "metadata": {
    "collapsed": false
   },
   "outputs": [],
   "source": [
    "regr = linear_model.LinearRegression()\n",
    "regr.fit(X_train, Y_train)"
   ]
  },
  {
   "cell_type": "code",
   "execution_count": null,
   "metadata": {
    "collapsed": true
   },
   "outputs": [],
   "source": []
  },
  {
   "cell_type": "code",
   "execution_count": null,
   "metadata": {
    "collapsed": false
   },
   "outputs": [],
   "source": [
    "preds = [0.0 if x < 0.5 else 1.0 for x in regr.predict(X_test)]\n",
    "preds = np.array(preds)"
   ]
  },
  {
   "cell_type": "code",
   "execution_count": null,
   "metadata": {
    "collapsed": false
   },
   "outputs": [],
   "source": [
    "num_correct = 0\n",
    "num_wrong = 0\n",
    "for i in range(len(preds)):\n",
    "    if preds[i] == Y_test[i]:\n",
    "        num_correct += 1\n",
    "    else:\n",
    "        num_wrong += 1"
   ]
  },
  {
   "cell_type": "code",
   "execution_count": null,
   "metadata": {
    "collapsed": false
   },
   "outputs": [],
   "source": [
    "acc = float(num_correct) / (num_correct + num_wrong)\n",
    "acc * 100"
   ]
  },
  {
   "cell_type": "code",
   "execution_count": null,
   "metadata": {
    "collapsed": false
   },
   "outputs": [],
   "source": [
    "zero_preds = np.zeros(len(Y_test))\n",
    "zero_preds[:10]"
   ]
  },
  {
   "cell_type": "code",
   "execution_count": null,
   "metadata": {
    "collapsed": true
   },
   "outputs": [],
   "source": [
    "num_correct_z = 0\n",
    "num_wrong_z = 0\n",
    "for i in range(len(preds)):\n",
    "    if zero_preds[i] == Y_test[i]:\n",
    "        num_correct_z += 1\n",
    "    else:\n",
    "        num_wrong_z += 1"
   ]
  },
  {
   "cell_type": "code",
   "execution_count": null,
   "metadata": {
    "collapsed": false
   },
   "outputs": [],
   "source": [
    "float(num_correct_z) / (num_correct_z + num_wrong_z)"
   ]
  },
  {
   "cell_type": "code",
   "execution_count": null,
   "metadata": {
    "collapsed": true
   },
   "outputs": [],
   "source": []
  },
  {
   "cell_type": "code",
   "execution_count": null,
   "metadata": {
    "collapsed": true
   },
   "outputs": [],
   "source": []
  },
  {
   "cell_type": "code",
   "execution_count": null,
   "metadata": {
    "collapsed": true
   },
   "outputs": [
    {
     "name": "stdout",
     "output_type": "stream",
     "text": [
      "Num test indices: 10000\n",
      "Num non-test indices: 394351\n"
     ]
    }
   ],
   "source": [
    "# Script for creating train/dev/test set splits\n",
    "# - test set: use same example indices as the IBM Paper\n",
    "# - dev set: use 15% of remaining indices\n",
    "# - train set: everything else\n",
    "\n",
    "from __future__ import print_function\n",
    "import csv\n",
    "import numpy as np\n",
    "\n",
    "IBM_TEST_TSV_PATH = \"../data/quora/test_ibm.tsv\"\n",
    "NUM_DATA = 404351\n",
    "\n",
    "# get test indices from IBM paper\n",
    "with open(IBM_TEST_TSV_PATH, 'r') as input_file:\n",
    "    reader = csv.reader(input_file, delimiter='\\t')\n",
    "    test_indices = []\n",
    "    for line in reader:\n",
    "        test_indices.append(int(line[3]))\n",
    "    test_indices = np.array(test_indices)\n",
    "    print(\"Num test indices: %d\" % len(test_indices))\n",
    "# verify test_indices:\n",
    "# with open(\"test_indices.npy\", 'rb') as test_indices_file:\n",
    "#     indices = np.load(test_indices_file)\n",
    "#     print(indices)\n",
    "\n",
    "# now get train/dev split\n",
    "all_indices = range(NUM_DATA)\n",
    "non_test_indices = np.array(list(set(all_indices) - set(test_indices)))\n",
    "print(\"Num non-test indices: %d\" % len(non_test_indices))\n",
    "np.random.shuffle(non_test_indices)\n",
    "\n",
    "DEV_SPLIT_FRACTION = 0.15\n",
    "max_dev_index = int(0.15 * len(non_test_indices))\n",
    "dev_indices = non_test_indices[0:max_dev_index]\n",
    "train_indices = non_test_indices[max_dev_index:]\n",
    "\n",
    "np.savez_compressed(\"data_split_indices.npz\", train=train_indices, dev=dev_indices, test=test_indices)"
   ]
  },
  {
   "cell_type": "code",
   "execution_count": 2,
   "metadata": {
    "collapsed": false,
    "deletable": true,
    "editable": true
   },
   "outputs": [
    {
     "name": "stdout",
     "output_type": "stream",
     "text": [
      "Num test indices: 10000\n",
      "Num dev indices: 10000\n",
      "Num train indices: 384351\n"
     ]
    }
   ],
   "source": [
    "# Script for creating the same train/dev/test set splits as the IBM Paper\n",
    "from __future__ import print_function\n",
    "import csv\n",
    "import numpy as np\n",
    "\n",
    "IBM_TEST_TSV_PATH = \"../data/quora/test_ibm.tsv\"\n",
    "IBM_DEV_TSV_PATH = \"../data/quora/dev_ibm.tsv\"\n",
    "NUM_DATA = 404351\n",
    "\n",
    "# get test indices from IBM paper\n",
    "with open(IBM_TEST_TSV_PATH, 'r') as input_file:\n",
    "    reader = csv.reader(input_file, delimiter='\\t')\n",
    "    test_indices = []\n",
    "    for line in reader:\n",
    "        test_indices.append(int(line[3]))\n",
    "    test_indices = np.array(test_indices)\n",
    "    print(\"Num test indices: %d\" % len(test_indices))\n",
    "# verify test_indices:\n",
    "# with open(\"test_indices.npy\", 'rb') as test_indices_file:\n",
    "#     indices = np.load(test_indices_file)\n",
    "#     print(indices)\n",
    "\n",
    "# get dev indices from IBM paper\n",
    "with open(IBM_DEV_TSV_PATH, 'r') as input_file:\n",
    "    reader = csv.reader(input_file, delimiter='\\t')\n",
    "    dev_indices = []\n",
    "    for line in reader:\n",
    "        dev_indices.append(int(line[3]))\n",
    "    dev_indices = np.array(dev_indices)\n",
    "    print(\"Num dev indices: %d\" % len(dev_indices))\n",
    "\n",
    "# now get train set\n",
    "all_indices = range(NUM_DATA)\n",
    "train_indices = np.array(list(set(all_indices) - set(test_indices) - set(dev_indices)))\n",
    "print(\"Num train indices: %d\" % len(train_indices))\n",
    "np.random.shuffle(train_indices)\n",
    "\n",
    "np.savez_compressed(\"data_split_indices_ibm.npz\", train=train_indices, dev=dev_indices, test=test_indices)"
   ]
  }
 ],
 "metadata": {
  "kernelspec": {
   "display_name": "Python 2",
   "language": "python",
   "name": "python2"
  },
  "language_info": {
   "codemirror_mode": {
    "name": "ipython",
    "version": 2
   },
   "file_extension": ".py",
   "mimetype": "text/x-python",
   "name": "python",
   "nbconvert_exporter": "python",
   "pygments_lexer": "ipython2",
   "version": "2.7.11"
  },
  "widgets": {
   "state": {},
   "version": "1.1.2"
  }
 },
 "nbformat": 4,
 "nbformat_minor": 0
}
